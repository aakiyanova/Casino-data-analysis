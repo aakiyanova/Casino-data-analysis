{
 "cells": [
  {
   "cell_type": "code",
   "execution_count": 2,
   "metadata": {},
   "outputs": [],
   "source": [
    "# imports\n",
    "import pandas as pd\n",
    "import numpy as np\n",
    "import zipfile\n",
    "import os\n",
    "import matplotlib.pyplot as plt\n",
    "import seaborn as sns"
   ]
  },
  {
   "cell_type": "markdown",
   "metadata": {},
   "source": [
    "**Read and Observe the Data**"
   ]
  },
  {
   "cell_type": "code",
   "execution_count": 5,
   "metadata": {},
   "outputs": [],
   "source": [
    "# unzip the folder\n",
    "with zipfile.ZipFile('data/archive (1).zip', 'r') as zip_ref:\n",
    "    zip_ref.extractall('data')"
   ]
  },
  {
   "cell_type": "code",
   "execution_count": 6,
   "metadata": {},
   "outputs": [],
   "source": [
    "profile = pd.read_csv('data/PlayerProfiles.csv')"
   ]
  },
  {
   "cell_type": "code",
   "execution_count": 7,
   "metadata": {},
   "outputs": [],
   "source": [
    "players = pd.read_csv('data/Top500DartsPlayers.csv')"
   ]
  },
  {
   "cell_type": "markdown",
   "metadata": {},
   "source": [
    "**Player Profiles**"
   ]
  },
  {
   "cell_type": "code",
   "execution_count": 8,
   "metadata": {},
   "outputs": [
    {
     "data": {
      "text/html": [
       "<div>\n",
       "<style scoped>\n",
       "    .dataframe tbody tr th:only-of-type {\n",
       "        vertical-align: middle;\n",
       "    }\n",
       "\n",
       "    .dataframe tbody tr th {\n",
       "        vertical-align: top;\n",
       "    }\n",
       "\n",
       "    .dataframe thead th {\n",
       "        text-align: right;\n",
       "    }\n",
       "</style>\n",
       "<table border=\"1\" class=\"dataframe\">\n",
       "  <thead>\n",
       "    <tr style=\"text-align: right;\">\n",
       "      <th></th>\n",
       "      <th>Name :</th>\n",
       "      <th>Country :</th>\n",
       "      <th>Age :</th>\n",
       "      <th>Date Of Birth :</th>\n",
       "      <th>Nickname :</th>\n",
       "      <th>PDC Ranking :</th>\n",
       "      <th>Tour Card :</th>\n",
       "      <th>Career Earnings :</th>\n",
       "    </tr>\n",
       "  </thead>\n",
       "  <tbody>\n",
       "    <tr>\n",
       "      <th>0</th>\n",
       "      <td>Michael van Gerwen</td>\n",
       "      <td>Netherlands</td>\n",
       "      <td>32</td>\n",
       "      <td>4/25/1989</td>\n",
       "      <td>Mighty Mike</td>\n",
       "      <td>1</td>\n",
       "      <td>Yes</td>\n",
       "      <td>£8,321,167</td>\n",
       "    </tr>\n",
       "    <tr>\n",
       "      <th>1</th>\n",
       "      <td>Peter Wright</td>\n",
       "      <td>Scotland</td>\n",
       "      <td>51</td>\n",
       "      <td>3/10/1970</td>\n",
       "      <td>Snake Bite</td>\n",
       "      <td>2</td>\n",
       "      <td>Yes</td>\n",
       "      <td>£3,469,888</td>\n",
       "    </tr>\n",
       "    <tr>\n",
       "      <th>2</th>\n",
       "      <td>Gerwyn Price</td>\n",
       "      <td>Wales</td>\n",
       "      <td>36</td>\n",
       "      <td>3/7/1985</td>\n",
       "      <td>The Iceman</td>\n",
       "      <td>3</td>\n",
       "      <td>Yes</td>\n",
       "      <td>£1,497,803</td>\n",
       "    </tr>\n",
       "    <tr>\n",
       "      <th>3</th>\n",
       "      <td>Adrian Lewis</td>\n",
       "      <td>England</td>\n",
       "      <td>36</td>\n",
       "      <td>1/21/1985</td>\n",
       "      <td>Jackpot</td>\n",
       "      <td>13</td>\n",
       "      <td>Yes</td>\n",
       "      <td>£3,137,634</td>\n",
       "    </tr>\n",
       "    <tr>\n",
       "      <th>4</th>\n",
       "      <td>James Wade</td>\n",
       "      <td>England</td>\n",
       "      <td>38</td>\n",
       "      <td>4/6/1983</td>\n",
       "      <td>The Machine</td>\n",
       "      <td>9</td>\n",
       "      <td>Yes</td>\n",
       "      <td>£3,458,893</td>\n",
       "    </tr>\n",
       "  </tbody>\n",
       "</table>\n",
       "</div>"
      ],
      "text/plain": [
       "               Name :    Country :  Age : Date Of Birth :   Nickname :  \\\n",
       "0  Michael van Gerwen  Netherlands     32       4/25/1989  Mighty Mike   \n",
       "1        Peter Wright     Scotland     51       3/10/1970   Snake Bite   \n",
       "2        Gerwyn Price        Wales     36        3/7/1985   The Iceman   \n",
       "3        Adrian Lewis      England     36       1/21/1985      Jackpot   \n",
       "4          James Wade      England     38        4/6/1983  The Machine   \n",
       "\n",
       "   PDC Ranking : Tour Card : Career Earnings :  \n",
       "0              1         Yes        £8,321,167  \n",
       "1              2         Yes        £3,469,888  \n",
       "2              3         Yes        £1,497,803  \n",
       "3             13         Yes        £3,137,634  \n",
       "4              9         Yes        £3,458,893  "
      ]
     },
     "execution_count": 8,
     "metadata": {},
     "output_type": "execute_result"
    }
   ],
   "source": [
    "profile.head()"
   ]
  },
  {
   "cell_type": "code",
   "execution_count": 9,
   "metadata": {},
   "outputs": [
    {
     "name": "stdout",
     "output_type": "stream",
     "text": [
      "<class 'pandas.core.frame.DataFrame'>\n",
      "RangeIndex: 96 entries, 0 to 95\n",
      "Data columns (total 8 columns):\n",
      " #   Column             Non-Null Count  Dtype \n",
      "---  ------             --------------  ----- \n",
      " 0   Name :             96 non-null     object\n",
      " 1   Country :          96 non-null     object\n",
      " 2   Age :              96 non-null     int64 \n",
      " 3   Date Of Birth :    96 non-null     object\n",
      " 4   Nickname :         96 non-null     object\n",
      " 5   PDC Ranking :      96 non-null     int64 \n",
      " 6   Tour Card :        96 non-null     object\n",
      " 7   Career Earnings :  96 non-null     object\n",
      "dtypes: int64(2), object(6)\n",
      "memory usage: 6.1+ KB\n"
     ]
    }
   ],
   "source": [
    "profile.info()"
   ]
  },
  {
   "cell_type": "code",
   "execution_count": 10,
   "metadata": {},
   "outputs": [
    {
     "data": {
      "text/plain": [
       "(96, 8)"
      ]
     },
     "execution_count": 10,
     "metadata": {},
     "output_type": "execute_result"
    }
   ],
   "source": [
    "profile.shape"
   ]
  },
  {
   "cell_type": "code",
   "execution_count": 11,
   "metadata": {},
   "outputs": [],
   "source": [
    "# take out special characters from column names\n",
    "profile.columns = profile.columns.str.replace(' :', '')"
   ]
  },
  {
   "cell_type": "code",
   "execution_count": 12,
   "metadata": {},
   "outputs": [],
   "source": [
    "# lower case column names\n",
    "profile.columns = profile.columns.str.lower()"
   ]
  },
  {
   "cell_type": "code",
   "execution_count": 13,
   "metadata": {},
   "outputs": [],
   "source": [
    "profile['career earnings'] = profile['career earnings'].str[1:]"
   ]
  },
  {
   "cell_type": "code",
   "execution_count": 14,
   "metadata": {},
   "outputs": [],
   "source": [
    "profile['career earnings'] = profile['career earnings'].str.replace(' ', '')"
   ]
  },
  {
   "cell_type": "code",
   "execution_count": 15,
   "metadata": {},
   "outputs": [],
   "source": [
    "profile['career earnings'] = profile['career earnings'].str.replace(',', '').astype(str).astype(int)"
   ]
  },
  {
   "cell_type": "code",
   "execution_count": 16,
   "metadata": {},
   "outputs": [
    {
     "data": {
      "text/plain": [
       "0    England\n",
       "dtype: object"
      ]
     },
     "execution_count": 16,
     "metadata": {},
     "output_type": "execute_result"
    }
   ],
   "source": [
    "profile['country'].mode()"
   ]
  },
  {
   "cell_type": "code",
   "execution_count": 17,
   "metadata": {},
   "outputs": [
    {
     "data": {
      "text/html": [
       "<div>\n",
       "<style scoped>\n",
       "    .dataframe tbody tr th:only-of-type {\n",
       "        vertical-align: middle;\n",
       "    }\n",
       "\n",
       "    .dataframe tbody tr th {\n",
       "        vertical-align: top;\n",
       "    }\n",
       "\n",
       "    .dataframe thead th {\n",
       "        text-align: right;\n",
       "    }\n",
       "</style>\n",
       "<table border=\"1\" class=\"dataframe\">\n",
       "  <thead>\n",
       "    <tr style=\"text-align: right;\">\n",
       "      <th></th>\n",
       "      <th>age</th>\n",
       "      <th>pdc ranking</th>\n",
       "      <th>career earnings</th>\n",
       "    </tr>\n",
       "  </thead>\n",
       "  <tbody>\n",
       "    <tr>\n",
       "      <th>count</th>\n",
       "      <td>96.000000</td>\n",
       "      <td>96.000000</td>\n",
       "      <td>9.600000e+01</td>\n",
       "    </tr>\n",
       "    <tr>\n",
       "      <th>mean</th>\n",
       "      <td>40.197917</td>\n",
       "      <td>50.343750</td>\n",
       "      <td>1.025411e+06</td>\n",
       "    </tr>\n",
       "    <tr>\n",
       "      <th>std</th>\n",
       "      <td>9.488630</td>\n",
       "      <td>37.630846</td>\n",
       "      <td>1.583800e+06</td>\n",
       "    </tr>\n",
       "    <tr>\n",
       "      <th>min</th>\n",
       "      <td>24.000000</td>\n",
       "      <td>1.000000</td>\n",
       "      <td>1.867200e+04</td>\n",
       "    </tr>\n",
       "    <tr>\n",
       "      <th>25%</th>\n",
       "      <td>32.000000</td>\n",
       "      <td>19.750000</td>\n",
       "      <td>1.934150e+05</td>\n",
       "    </tr>\n",
       "    <tr>\n",
       "      <th>50%</th>\n",
       "      <td>37.500000</td>\n",
       "      <td>46.500000</td>\n",
       "      <td>4.411490e+05</td>\n",
       "    </tr>\n",
       "    <tr>\n",
       "      <th>75%</th>\n",
       "      <td>49.000000</td>\n",
       "      <td>72.750000</td>\n",
       "      <td>1.094730e+06</td>\n",
       "    </tr>\n",
       "    <tr>\n",
       "      <th>max</th>\n",
       "      <td>57.000000</td>\n",
       "      <td>153.000000</td>\n",
       "      <td>8.321167e+06</td>\n",
       "    </tr>\n",
       "  </tbody>\n",
       "</table>\n",
       "</div>"
      ],
      "text/plain": [
       "             age  pdc ranking  career earnings\n",
       "count  96.000000    96.000000     9.600000e+01\n",
       "mean   40.197917    50.343750     1.025411e+06\n",
       "std     9.488630    37.630846     1.583800e+06\n",
       "min    24.000000     1.000000     1.867200e+04\n",
       "25%    32.000000    19.750000     1.934150e+05\n",
       "50%    37.500000    46.500000     4.411490e+05\n",
       "75%    49.000000    72.750000     1.094730e+06\n",
       "max    57.000000   153.000000     8.321167e+06"
      ]
     },
     "execution_count": 17,
     "metadata": {},
     "output_type": "execute_result"
    }
   ],
   "source": [
    "profile.describe()"
   ]
  },
  {
   "cell_type": "markdown",
   "metadata": {},
   "source": [
    "**Top 500 Players**"
   ]
  },
  {
   "cell_type": "code",
   "execution_count": 18,
   "metadata": {},
   "outputs": [
    {
     "data": {
      "text/html": [
       "<div>\n",
       "<style scoped>\n",
       "    .dataframe tbody tr th:only-of-type {\n",
       "        vertical-align: middle;\n",
       "    }\n",
       "\n",
       "    .dataframe tbody tr th {\n",
       "        vertical-align: top;\n",
       "    }\n",
       "\n",
       "    .dataframe thead th {\n",
       "        text-align: right;\n",
       "    }\n",
       "</style>\n",
       "<table border=\"1\" class=\"dataframe\">\n",
       "  <thead>\n",
       "    <tr style=\"text-align: right;\">\n",
       "      <th></th>\n",
       "      <th>Rank</th>\n",
       "      <th>Player</th>\n",
       "      <th>Country</th>\n",
       "      <th>Prize</th>\n",
       "    </tr>\n",
       "  </thead>\n",
       "  <tbody>\n",
       "    <tr>\n",
       "      <th>0</th>\n",
       "      <td>1</td>\n",
       "      <td>Michael van Gerwen</td>\n",
       "      <td>Netherlands</td>\n",
       "      <td>£8,321,167</td>\n",
       "    </tr>\n",
       "    <tr>\n",
       "      <th>1</th>\n",
       "      <td>2</td>\n",
       "      <td>Phil Taylor</td>\n",
       "      <td>England</td>\n",
       "      <td>£7,630,816</td>\n",
       "    </tr>\n",
       "    <tr>\n",
       "      <th>2</th>\n",
       "      <td>3</td>\n",
       "      <td>Gary Anderson</td>\n",
       "      <td>Scotland</td>\n",
       "      <td>£4,118,772</td>\n",
       "    </tr>\n",
       "    <tr>\n",
       "      <th>3</th>\n",
       "      <td>4</td>\n",
       "      <td>Raymond van Barneveld</td>\n",
       "      <td>Netherlands</td>\n",
       "      <td>£3,510,128</td>\n",
       "    </tr>\n",
       "    <tr>\n",
       "      <th>4</th>\n",
       "      <td>5</td>\n",
       "      <td>Peter Wright</td>\n",
       "      <td>Scotland</td>\n",
       "      <td>£3,470,888</td>\n",
       "    </tr>\n",
       "  </tbody>\n",
       "</table>\n",
       "</div>"
      ],
      "text/plain": [
       "   Rank                 Player      Country       Prize\n",
       "0     1     Michael van Gerwen  Netherlands  £8,321,167\n",
       "1     2            Phil Taylor      England  £7,630,816\n",
       "2     3          Gary Anderson     Scotland  £4,118,772\n",
       "3     4  Raymond van Barneveld  Netherlands  £3,510,128\n",
       "4     5           Peter Wright     Scotland  £3,470,888"
      ]
     },
     "execution_count": 18,
     "metadata": {},
     "output_type": "execute_result"
    }
   ],
   "source": [
    "players.head()"
   ]
  },
  {
   "cell_type": "code",
   "execution_count": 19,
   "metadata": {},
   "outputs": [
    {
     "data": {
      "text/html": [
       "<div>\n",
       "<style scoped>\n",
       "    .dataframe tbody tr th:only-of-type {\n",
       "        vertical-align: middle;\n",
       "    }\n",
       "\n",
       "    .dataframe tbody tr th {\n",
       "        vertical-align: top;\n",
       "    }\n",
       "\n",
       "    .dataframe thead th {\n",
       "        text-align: right;\n",
       "    }\n",
       "</style>\n",
       "<table border=\"1\" class=\"dataframe\">\n",
       "  <thead>\n",
       "    <tr style=\"text-align: right;\">\n",
       "      <th></th>\n",
       "      <th>name</th>\n",
       "      <th>country</th>\n",
       "      <th>age</th>\n",
       "      <th>date of birth</th>\n",
       "      <th>nickname</th>\n",
       "      <th>pdc ranking</th>\n",
       "      <th>tour card</th>\n",
       "      <th>career earnings</th>\n",
       "    </tr>\n",
       "  </thead>\n",
       "  <tbody>\n",
       "    <tr>\n",
       "      <th>0</th>\n",
       "      <td>Michael van Gerwen</td>\n",
       "      <td>Netherlands</td>\n",
       "      <td>32</td>\n",
       "      <td>4/25/1989</td>\n",
       "      <td>Mighty Mike</td>\n",
       "      <td>1</td>\n",
       "      <td>Yes</td>\n",
       "      <td>8321167</td>\n",
       "    </tr>\n",
       "    <tr>\n",
       "      <th>1</th>\n",
       "      <td>Peter Wright</td>\n",
       "      <td>Scotland</td>\n",
       "      <td>51</td>\n",
       "      <td>3/10/1970</td>\n",
       "      <td>Snake Bite</td>\n",
       "      <td>2</td>\n",
       "      <td>Yes</td>\n",
       "      <td>3469888</td>\n",
       "    </tr>\n",
       "    <tr>\n",
       "      <th>2</th>\n",
       "      <td>Gerwyn Price</td>\n",
       "      <td>Wales</td>\n",
       "      <td>36</td>\n",
       "      <td>3/7/1985</td>\n",
       "      <td>The Iceman</td>\n",
       "      <td>3</td>\n",
       "      <td>Yes</td>\n",
       "      <td>1497803</td>\n",
       "    </tr>\n",
       "    <tr>\n",
       "      <th>3</th>\n",
       "      <td>Adrian Lewis</td>\n",
       "      <td>England</td>\n",
       "      <td>36</td>\n",
       "      <td>1/21/1985</td>\n",
       "      <td>Jackpot</td>\n",
       "      <td>13</td>\n",
       "      <td>Yes</td>\n",
       "      <td>3137634</td>\n",
       "    </tr>\n",
       "    <tr>\n",
       "      <th>4</th>\n",
       "      <td>James Wade</td>\n",
       "      <td>England</td>\n",
       "      <td>38</td>\n",
       "      <td>4/6/1983</td>\n",
       "      <td>The Machine</td>\n",
       "      <td>9</td>\n",
       "      <td>Yes</td>\n",
       "      <td>3458893</td>\n",
       "    </tr>\n",
       "  </tbody>\n",
       "</table>\n",
       "</div>"
      ],
      "text/plain": [
       "                 name      country  age date of birth     nickname  \\\n",
       "0  Michael van Gerwen  Netherlands   32     4/25/1989  Mighty Mike   \n",
       "1        Peter Wright     Scotland   51     3/10/1970   Snake Bite   \n",
       "2        Gerwyn Price        Wales   36      3/7/1985   The Iceman   \n",
       "3        Adrian Lewis      England   36     1/21/1985      Jackpot   \n",
       "4          James Wade      England   38      4/6/1983  The Machine   \n",
       "\n",
       "   pdc ranking tour card  career earnings  \n",
       "0            1       Yes          8321167  \n",
       "1            2       Yes          3469888  \n",
       "2            3       Yes          1497803  \n",
       "3           13       Yes          3137634  \n",
       "4            9       Yes          3458893  "
      ]
     },
     "execution_count": 19,
     "metadata": {},
     "output_type": "execute_result"
    }
   ],
   "source": [
    "profile.head()"
   ]
  },
  {
   "cell_type": "code",
   "execution_count": 24,
   "metadata": {},
   "outputs": [
    {
     "data": {
      "image/png": "[encoded data removed]",
      "text/plain": [
       "<Figure size 576x360 with 1 Axes>"
      ]
     },
     "metadata": {
      "needs_background": "light"
     },
     "output_type": "display_data"
    }
   ],
   "source": [
    "plt.figure(figsize=(8,5))\n",
    "sns.scatterplot(data=profile, x=\"pdc ranking\", y=\"career earnings\", alpha=0.8)\n",
    "plt.title('PDC Ranking and Career earnings', fontsize=14)\n",
    "plt.xlabel('pdd ranking', fontsize=12)\n",
    "plt.ylabel('earnings', fontsize=12)\n",
    "plt.show;"
   ]
  },
  {
   "cell_type": "code",
   "execution_count": null,
   "metadata": {},
   "outputs": [],
   "source": [
    "additional_players = [x for x in players['player'] if x not in profile['name']]"
   ]
  },
  {
   "cell_type": "code",
   "execution_count": null,
   "metadata": {},
   "outputs": [],
   "source": [
    "profile.loc[profile['name'] == 'Phil Taylor']"
   ]
  },
  {
   "cell_type": "code",
   "execution_count": null,
   "metadata": {},
   "outputs": [],
   "source": [
    "profile.loc[profile['name'] == 'Gary Anderson']"
   ]
  },
  {
   "cell_type": "code",
   "execution_count": null,
   "metadata": {},
   "outputs": [],
   "source": [
    "profile.loc[profile['name'] == 'Raymond van Barneveld']"
   ]
  },
  {
   "cell_type": "code",
   "execution_count": null,
   "metadata": {},
   "outputs": [],
   "source": [
    "players.loc[players['player'] == 'Gary Anderson']"
   ]
  },
  {
   "cell_type": "code",
   "execution_count": null,
   "metadata": {},
   "outputs": [],
   "source": [
    "players.loc[players['rank'] == 13]"
   ]
  },
  {
   "cell_type": "code",
   "execution_count": null,
   "metadata": {},
   "outputs": [],
   "source": [
    "players.info()"
   ]
  },
  {
   "cell_type": "code",
   "execution_count": null,
   "metadata": {},
   "outputs": [],
   "source": [
    "players.shape"
   ]
  },
  {
   "cell_type": "code",
   "execution_count": null,
   "metadata": {},
   "outputs": [],
   "source": [
    "players.columns = players.columns.str.lower()"
   ]
  },
  {
   "cell_type": "code",
   "execution_count": null,
   "metadata": {},
   "outputs": [],
   "source": [
    "players['prize'] = players['prize'].str[1:]"
   ]
  },
  {
   "cell_type": "code",
   "execution_count": null,
   "metadata": {},
   "outputs": [],
   "source": [
    "players['prize'] = players['prize'].str.replace(' ', '')"
   ]
  },
  {
   "cell_type": "code",
   "execution_count": null,
   "metadata": {},
   "outputs": [],
   "source": [
    "players['prize'] = players['prize'].str.replace(',','')"
   ]
  },
  {
   "cell_type": "code",
   "execution_count": null,
   "metadata": {},
   "outputs": [],
   "source": [
    "players['prize'] = players['prize'].astype(str).astype(int)"
   ]
  },
  {
   "cell_type": "code",
   "execution_count": null,
   "metadata": {},
   "outputs": [],
   "source": [
    "players.info()"
   ]
  },
  {
   "cell_type": "code",
   "execution_count": null,
   "metadata": {},
   "outputs": [],
   "source": [
    "players.head()"
   ]
  },
  {
   "cell_type": "code",
   "execution_count": null,
   "metadata": {},
   "outputs": [],
   "source": [
    "players.describe()"
   ]
  },
  {
   "cell_type": "code",
   "execution_count": null,
   "metadata": {},
   "outputs": [],
   "source": [
    "players['country'].mode()"
   ]
  },
  {
   "cell_type": "code",
   "execution_count": null,
   "metadata": {},
   "outputs": [],
   "source": []
  }
 ],
 "metadata": {
  "kernelspec": {
   "display_name": "Python 3",
   "language": "python",
   "name": "python3"
  },
  "language_info": {
   "codemirror_mode": {
    "name": "ipython",
    "version": 3
   },
   "file_extension": ".py",
   "mimetype": "text/x-python",
   "name": "python",
   "nbconvert_exporter": "python",
   "pygments_lexer": "ipython3",
   "version": "3.8.5"
  }
 },
 "nbformat": 4,
 "nbformat_minor": 4
}
